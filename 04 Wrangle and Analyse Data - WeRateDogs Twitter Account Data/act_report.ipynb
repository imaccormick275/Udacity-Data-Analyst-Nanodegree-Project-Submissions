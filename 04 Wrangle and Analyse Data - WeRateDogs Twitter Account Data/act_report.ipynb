{
 "cells": [
  {
   "cell_type": "markdown",
   "metadata": {},
   "source": [
    "# Blog Post"
   ]
  },
  {
   "cell_type": "markdown",
   "metadata": {},
   "source": [
    "WeRateDogs is a twitter account which has been getting a lot of attention recently so I decided to take a dive into the account to see if we could find anything of interest! \n",
    "\n",
    "The account is particularly notable because it is unusual rating system. Dogs are scored out of 10 but it is possible to get a score higher than 10. Although the upper bound of this rating system is technically undefined WeRateDogs typically scores from 0 to 14 out of 10. 80% of tweets on we rate dogs receive a 10/10 rating or higher!\n",
    "\n",
    "Interestingly 25% of dogs rated by WeRateDogs are not actually dogs! It is well known WeRateDogs rate images of non dogs, however to come to this 25% statistic, a colleague of mine at Udacity produced a Neural Network predicting the image attached to each tweet. Each prediction then falls into one of two categories: dog or not-a-dog. \n",
    "\n",
    "This didn't put WeRateDogs off giving non-dogs strong ratings, in fact 60% of all non-dogs received a 10 rating or higher. \n",
    "\n",
    "So I think the questions that are on everyone's mind is what breed of dog gets the most attention on WeRateDogs? \n",
    "\n",
    "Firstly looking at the number of tweets posted by the account, unsurprisingly in my opinion, the good old golden retriever and labrador come in first and second place."
   ]
  },
  {
   "cell_type": "markdown",
   "metadata": {},
   "source": [
    "<img src=\"tweet.png\">"
   ]
  },
  {
   "cell_type": "markdown",
   "metadata": {},
   "source": [
    "Secondly, using retweet count as a good indicator of popularity, let's have a look at the number of retweets each breed was getting on average. To reach this analysis a breed had to have at least 10 tweets. "
   ]
  },
  {
   "cell_type": "markdown",
   "metadata": {},
   "source": [
    "<img src=\"retweet.png\">"
   ]
  },
  {
   "cell_type": "markdown",
   "metadata": {},
   "source": [
    "More surprisingly the cardigan and basset came in first and second place. Although they are good dogs brent! "
   ]
  }
 ],
 "metadata": {
  "kernelspec": {
   "display_name": "Python [conda env:udacity_data_analyst_nanodegree]",
   "language": "python",
   "name": "conda-env-udacity_data_analyst_nanodegree-py"
  },
  "language_info": {
   "codemirror_mode": {
    "name": "ipython",
    "version": 3
   },
   "file_extension": ".py",
   "mimetype": "text/x-python",
   "name": "python",
   "nbconvert_exporter": "python",
   "pygments_lexer": "ipython3",
   "version": "3.7.2"
  }
 },
 "nbformat": 4,
 "nbformat_minor": 2
}
