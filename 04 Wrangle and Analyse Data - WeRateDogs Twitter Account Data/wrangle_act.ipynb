{
 "cells": [
  {
   "cell_type": "markdown",
   "metadata": {},
   "source": [
    "# WeLoveDogs"
   ]
  },
  {
   "cell_type": "code",
   "execution_count": 1,
   "metadata": {},
   "outputs": [],
   "source": [
    "# import all modules required\n",
    "import pandas as pd\n",
    "import numpy as np\n",
    "import requests\n",
    "import json\n",
    "import tweepy\n",
    "import timeit\n",
    "from bs4 import BeautifulSoup\n",
    "import re\n",
    "import os"
   ]
  },
  {
   "cell_type": "markdown",
   "metadata": {},
   "source": [
    "## Gather"
   ]
  },
  {
   "cell_type": "markdown",
   "metadata": {},
   "source": [
    "### Enhanced Data (Manual Download)"
   ]
  },
  {
   "cell_type": "code",
   "execution_count": 62,
   "metadata": {},
   "outputs": [],
   "source": [
    "df_enhanced = pd.read_csv('twitter_archive_enhanced.csv')"
   ]
  },
  {
   "cell_type": "markdown",
   "metadata": {},
   "source": [
    "### Image Predictions (Programatic Download)"
   ]
  },
  {
   "cell_type": "code",
   "execution_count": 3,
   "metadata": {},
   "outputs": [],
   "source": [
    "predictions_url = 'https://d17h27t6h515a5.cloudfront.net/topher/2017/August/599fd2ad_image-predictions/image-predictions.tsv'"
   ]
  },
  {
   "cell_type": "code",
   "execution_count": 4,
   "metadata": {},
   "outputs": [],
   "source": [
    "response = requests.get(predictions_url)"
   ]
  },
  {
   "cell_type": "code",
   "execution_count": 5,
   "metadata": {},
   "outputs": [],
   "source": [
    "with open('image_predictions.tsv', mode = 'wb') as file:\n",
    "    file.write(response.content)"
   ]
  },
  {
   "cell_type": "code",
   "execution_count": 6,
   "metadata": {},
   "outputs": [],
   "source": [
    "df_predict = pd.read_csv('image_predictions.tsv', '\\t')"
   ]
  },
  {
   "cell_type": "code",
   "execution_count": 7,
   "metadata": {},
   "outputs": [
    {
     "data": {
      "text/html": [
       "<div>\n",
       "<style scoped>\n",
       "    .dataframe tbody tr th:only-of-type {\n",
       "        vertical-align: middle;\n",
       "    }\n",
       "\n",
       "    .dataframe tbody tr th {\n",
       "        vertical-align: top;\n",
       "    }\n",
       "\n",
       "    .dataframe thead th {\n",
       "        text-align: right;\n",
       "    }\n",
       "</style>\n",
       "<table border=\"1\" class=\"dataframe\">\n",
       "  <thead>\n",
       "    <tr style=\"text-align: right;\">\n",
       "      <th></th>\n",
       "      <th>tweet_id</th>\n",
       "      <th>jpg_url</th>\n",
       "      <th>img_num</th>\n",
       "      <th>p1</th>\n",
       "      <th>p1_conf</th>\n",
       "      <th>p1_dog</th>\n",
       "      <th>p2</th>\n",
       "      <th>p2_conf</th>\n",
       "      <th>p2_dog</th>\n",
       "      <th>p3</th>\n",
       "      <th>p3_conf</th>\n",
       "      <th>p3_dog</th>\n",
       "    </tr>\n",
       "  </thead>\n",
       "  <tbody>\n",
       "    <tr>\n",
       "      <th>0</th>\n",
       "      <td>666020888022790149</td>\n",
       "      <td>https://pbs.twimg.com/media/CT4udn0WwAA0aMy.jpg</td>\n",
       "      <td>1</td>\n",
       "      <td>Welsh_springer_spaniel</td>\n",
       "      <td>0.465074</td>\n",
       "      <td>True</td>\n",
       "      <td>collie</td>\n",
       "      <td>0.156665</td>\n",
       "      <td>True</td>\n",
       "      <td>Shetland_sheepdog</td>\n",
       "      <td>0.061428</td>\n",
       "      <td>True</td>\n",
       "    </tr>\n",
       "    <tr>\n",
       "      <th>1</th>\n",
       "      <td>666029285002620928</td>\n",
       "      <td>https://pbs.twimg.com/media/CT42GRgUYAA5iDo.jpg</td>\n",
       "      <td>1</td>\n",
       "      <td>redbone</td>\n",
       "      <td>0.506826</td>\n",
       "      <td>True</td>\n",
       "      <td>miniature_pinscher</td>\n",
       "      <td>0.074192</td>\n",
       "      <td>True</td>\n",
       "      <td>Rhodesian_ridgeback</td>\n",
       "      <td>0.072010</td>\n",
       "      <td>True</td>\n",
       "    </tr>\n",
       "    <tr>\n",
       "      <th>2</th>\n",
       "      <td>666033412701032449</td>\n",
       "      <td>https://pbs.twimg.com/media/CT4521TWwAEvMyu.jpg</td>\n",
       "      <td>1</td>\n",
       "      <td>German_shepherd</td>\n",
       "      <td>0.596461</td>\n",
       "      <td>True</td>\n",
       "      <td>malinois</td>\n",
       "      <td>0.138584</td>\n",
       "      <td>True</td>\n",
       "      <td>bloodhound</td>\n",
       "      <td>0.116197</td>\n",
       "      <td>True</td>\n",
       "    </tr>\n",
       "    <tr>\n",
       "      <th>3</th>\n",
       "      <td>666044226329800704</td>\n",
       "      <td>https://pbs.twimg.com/media/CT5Dr8HUEAA-lEu.jpg</td>\n",
       "      <td>1</td>\n",
       "      <td>Rhodesian_ridgeback</td>\n",
       "      <td>0.408143</td>\n",
       "      <td>True</td>\n",
       "      <td>redbone</td>\n",
       "      <td>0.360687</td>\n",
       "      <td>True</td>\n",
       "      <td>miniature_pinscher</td>\n",
       "      <td>0.222752</td>\n",
       "      <td>True</td>\n",
       "    </tr>\n",
       "    <tr>\n",
       "      <th>4</th>\n",
       "      <td>666049248165822465</td>\n",
       "      <td>https://pbs.twimg.com/media/CT5IQmsXIAAKY4A.jpg</td>\n",
       "      <td>1</td>\n",
       "      <td>miniature_pinscher</td>\n",
       "      <td>0.560311</td>\n",
       "      <td>True</td>\n",
       "      <td>Rottweiler</td>\n",
       "      <td>0.243682</td>\n",
       "      <td>True</td>\n",
       "      <td>Doberman</td>\n",
       "      <td>0.154629</td>\n",
       "      <td>True</td>\n",
       "    </tr>\n",
       "  </tbody>\n",
       "</table>\n",
       "</div>"
      ],
      "text/plain": [
       "             tweet_id                                          jpg_url  \\\n",
       "0  666020888022790149  https://pbs.twimg.com/media/CT4udn0WwAA0aMy.jpg   \n",
       "1  666029285002620928  https://pbs.twimg.com/media/CT42GRgUYAA5iDo.jpg   \n",
       "2  666033412701032449  https://pbs.twimg.com/media/CT4521TWwAEvMyu.jpg   \n",
       "3  666044226329800704  https://pbs.twimg.com/media/CT5Dr8HUEAA-lEu.jpg   \n",
       "4  666049248165822465  https://pbs.twimg.com/media/CT5IQmsXIAAKY4A.jpg   \n",
       "\n",
       "   img_num                      p1   p1_conf  p1_dog                  p2  \\\n",
       "0        1  Welsh_springer_spaniel  0.465074    True              collie   \n",
       "1        1                 redbone  0.506826    True  miniature_pinscher   \n",
       "2        1         German_shepherd  0.596461    True            malinois   \n",
       "3        1     Rhodesian_ridgeback  0.408143    True             redbone   \n",
       "4        1      miniature_pinscher  0.560311    True          Rottweiler   \n",
       "\n",
       "    p2_conf  p2_dog                   p3   p3_conf  p3_dog  \n",
       "0  0.156665    True    Shetland_sheepdog  0.061428    True  \n",
       "1  0.074192    True  Rhodesian_ridgeback  0.072010    True  \n",
       "2  0.138584    True           bloodhound  0.116197    True  \n",
       "3  0.360687    True   miniature_pinscher  0.222752    True  \n",
       "4  0.243682    True             Doberman  0.154629    True  "
      ]
     },
     "execution_count": 7,
     "metadata": {},
     "output_type": "execute_result"
    }
   ],
   "source": [
    "df_predict.head()"
   ]
  },
  {
   "cell_type": "code",
   "execution_count": 8,
   "metadata": {},
   "outputs": [
    {
     "data": {
      "text/plain": [
       "(2356, 17)"
      ]
     },
     "execution_count": 8,
     "metadata": {},
     "output_type": "execute_result"
    }
   ],
   "source": [
    "df_enhanced.shape"
   ]
  },
  {
   "cell_type": "markdown",
   "metadata": {},
   "source": [
    "### Additional Information (Twitter API)"
   ]
  },
  {
   "cell_type": "markdown",
   "metadata": {},
   "source": [
    "#### Authenticate"
   ]
  },
  {
   "cell_type": "code",
   "execution_count": 9,
   "metadata": {},
   "outputs": [],
   "source": [
    "# import consumer token/secret from file for authentication\n",
    "with open('twitter_credentials.txt', encoding = 'utf-8') as file:\n",
    "    api_key = file.readline()[:-1]\n",
    "    api_secret_key = file.readline()[:-1]\n",
    "    access_token = file.readline()[:-1]\n",
    "    access_token_secret = file.readline()"
   ]
  },
  {
   "cell_type": "code",
   "execution_count": 10,
   "metadata": {},
   "outputs": [],
   "source": [
    "# authenticate\n",
    "auth = tweepy.OAuthHandler(api_key, api_secret_key)\n",
    "auth.set_access_token(access_token, access_token_secret)"
   ]
  },
  {
   "cell_type": "code",
   "execution_count": 11,
   "metadata": {},
   "outputs": [],
   "source": [
    "# define api\n",
    "api = tweepy.API(auth)"
   ]
  },
  {
   "cell_type": "markdown",
   "metadata": {},
   "source": [
    "#### Retrieve Tweet JSON and Export txt"
   ]
  },
  {
   "cell_type": "code",
   "execution_count": 12,
   "metadata": {},
   "outputs": [
    {
     "name": "stdout",
     "output_type": "stream",
     "text": [
      "0.0033167650000009985\n"
     ]
    }
   ],
   "source": [
    "# http://docs.tweepy.org/en/v3.2.0/api.html#status-methods\n",
    "# https://stackabuse.com/reading-and-writing-json-to-a-file-in-python\n",
    "\n",
    "# \n",
    "tweepy.api.wait_on_rate_limit = True\n",
    "tweepy.api.wait_on_rate_limit_notify = True\n",
    "\n",
    "# create list of tweets to query the API\n",
    "tweet_id_list = df_enhanced['tweet_id'].tolist()\n",
    "\n",
    "# Start Timer\n",
    "start = timeit.timeit()\n",
    "\n",
    "file_name = 'tweet_json.txt'\n",
    "\n",
    "# if file exists create file else skip this step\n",
    "if not os.path.exists(file_name):\n",
    "    # Open tweet_json.txt with file hander\n",
    "    with open(file_name, mode = 'wt') as file:\n",
    "\n",
    "        # loop through tweet_id list and write tweet JSON to txt\n",
    "        for tweet_id in tweet_id_list:\n",
    "            try:\n",
    "                tweet = api.get_status(tweet_id)\n",
    "                json_str = json.dumps(tweet._json)\n",
    "                json_str += '\\n'\n",
    "                file.write(json_str)\n",
    "            except:\n",
    "                json_str = '{}'\n",
    "                json_str += '\\n'\n",
    "                file.write(json_str)\n",
    "\n",
    "# End Timer\n",
    "end = timeit.timeit()\n",
    "print(end - start)"
   ]
  },
  {
   "cell_type": "markdown",
   "metadata": {},
   "source": [
    "#### Import Twitter from txt"
   ]
  },
  {
   "cell_type": "code",
   "execution_count": 13,
   "metadata": {},
   "outputs": [],
   "source": [
    "additional_list = []\n",
    "\n",
    "# https://stackoverflow.com/questions/15599639/what-is-the-perfect-counterpart-in-python-for-while-not-eof\n",
    "\n",
    "with open('tweet_json.txt', encoding = 'utf-8') as openfileobject:\n",
    "    for line in openfileobject:\n",
    "        try:\n",
    "            data = json.loads(line)\n",
    "            tweet_id = data['id']\n",
    "            favorite_count = data['favorite_count']\n",
    "            retweet_count = data['retweet_count']\n",
    "            additional_list.append({'tweet_id':tweet_id,\n",
    "                                    'favorite_count':favorite_count,\n",
    "                                    'retweet_count':retweet_count})\n",
    "        except:\n",
    "            tweet_id = np.NaN\n",
    "            favorite_count = np.NaN\n",
    "            retweet_count = np.NaN\n",
    "            additional_list.append({'tweet_id':tweet_id,\n",
    "                                    'favorite_count':favorite_count,\n",
    "                                    'retweet_count':retweet_count})\n",
    "\n",
    "df_additional = pd.DataFrame(additional_list)"
   ]
  },
  {
   "cell_type": "code",
   "execution_count": 14,
   "metadata": {},
   "outputs": [],
   "source": [
    "# check all tweet IDs from enhanced were gathered into additional\n",
    "assert(df_additional.shape[0] == df_enhanced.shape[0])"
   ]
  },
  {
   "cell_type": "markdown",
   "metadata": {},
   "source": [
    "## Assess\n",
    "\n",
    "<b> NOTE: </b> assessments made using cells below and visual assessments made in google sheets\n",
    "\n",
    "<b>Tidiness</b>\n",
    "\n",
    "each variable forms a column\n",
    "\n",
    "    1. Enhanced\n",
    "        * none\n",
    "    2. Predict:\n",
    "        * source url and source type contained in one column 'source'\n",
    "    3. Additional\n",
    "        * none\n",
    "\n",
    "\n",
    "each observation forms a row\n",
    "\n",
    "    1. Enhanced\n",
    "        * none\n",
    "    2. Predict\n",
    "        * none\n",
    "    3. Additional\n",
    "        * none\n",
    "\n",
    "\n",
    "each type of observational unit forms a table\n",
    "\n",
    "    1. enhanced, additional and predict should be contined within one dataFrame\n",
    "\n",
    "\n",
    "\n",
    "<b>Quality</b>\n",
    "\n",
    "Completness\n",
    "\n",
    "    1. Enhanced\n",
    "        * dataframe contains 181 re-tweets. we wish only to look at original tweets.\n",
    "    2. Predict\n",
    "        * none\n",
    "    3. Additional\n",
    "        * none\n",
    "\n",
    "Validity\n",
    "\n",
    "    1. Enhanced\n",
    "        * not all rating denominators are equal to 10. scoring system is out of 10.\n",
    "    2. Predict\n",
    "        * none\n",
    "    3. Additional\n",
    "        * none\n",
    "\n",
    "Accuracy\n",
    "\n",
    "    1. Enhanced\n",
    "        * groups of dogs rated - remove / replace with divisor rating and indicator column isGroup\n",
    "        * the original cleaning attempt has not correctly handled non integer ratings e.g. 9.75 / 10 has rating numerator 75 / 10 for tweet ID 722974582966214656\n",
    "        * original data cleaning has picked up other numerial data as rating. e.g. tweet 740373189193256964 contains '9/11' as to mean 11th September. numerator / denominator returned as 9 / 11 resp.\n",
    "        * tweet_id does not contain a rating 810984652412424192. contains '24/7' to mean 24 hours and 7 days which is being picked up as the numerator and denominator. tweet_id does not contain a rating.\n",
    "        * tweet_id 670842764863651840 and 749981277374128128 numerators form a joke but skew numerator data\n",
    "    2. Predict\n",
    "        * none\n",
    "    3. Additional\n",
    "        * none\n",
    "\n",
    "Consistency\n",
    "\n",
    "    1. Enhanced\n",
    "        * timestamp recorded as string not date time\n",
    "        * doggo, floofer, pupper, puppo -- should be True/False\n",
    "    2. Predict\n",
    "        * format of p1, p2, p3 is inconsistent: mixture of upper and lower case, mixture of '_', '-' and ' '\n",
    "    3. Additional\n",
    "        * none\n"
   ]
  },
  {
   "cell_type": "code",
   "execution_count": 15,
   "metadata": {},
   "outputs": [
    {
     "name": "stdout",
     "output_type": "stream",
     "text": [
      "<class 'pandas.core.frame.DataFrame'>\n",
      "RangeIndex: 2356 entries, 0 to 2355\n",
      "Data columns (total 17 columns):\n",
      "tweet_id                      2356 non-null int64\n",
      "in_reply_to_status_id         78 non-null float64\n",
      "in_reply_to_user_id           78 non-null float64\n",
      "timestamp                     2356 non-null object\n",
      "source                        2356 non-null object\n",
      "text                          2356 non-null object\n",
      "retweeted_status_id           181 non-null float64\n",
      "retweeted_status_user_id      181 non-null float64\n",
      "retweeted_status_timestamp    181 non-null object\n",
      "expanded_urls                 2297 non-null object\n",
      "rating_numerator              2356 non-null int64\n",
      "rating_denominator            2356 non-null int64\n",
      "name                          2356 non-null object\n",
      "doggo                         2356 non-null object\n",
      "floofer                       2356 non-null object\n",
      "pupper                        2356 non-null object\n",
      "puppo                         2356 non-null object\n",
      "dtypes: float64(4), int64(3), object(10)\n",
      "memory usage: 313.0+ KB\n"
     ]
    }
   ],
   "source": [
    "df_enhanced.info()"
   ]
  },
  {
   "cell_type": "code",
   "execution_count": 16,
   "metadata": {},
   "outputs": [
    {
     "name": "stdout",
     "output_type": "stream",
     "text": [
      "<class 'pandas.core.frame.DataFrame'>\n",
      "RangeIndex: 2075 entries, 0 to 2074\n",
      "Data columns (total 12 columns):\n",
      "tweet_id    2075 non-null int64\n",
      "jpg_url     2075 non-null object\n",
      "img_num     2075 non-null int64\n",
      "p1          2075 non-null object\n",
      "p1_conf     2075 non-null float64\n",
      "p1_dog      2075 non-null bool\n",
      "p2          2075 non-null object\n",
      "p2_conf     2075 non-null float64\n",
      "p2_dog      2075 non-null bool\n",
      "p3          2075 non-null object\n",
      "p3_conf     2075 non-null float64\n",
      "p3_dog      2075 non-null bool\n",
      "dtypes: bool(3), float64(3), int64(2), object(4)\n",
      "memory usage: 152.1+ KB\n"
     ]
    }
   ],
   "source": [
    "df_predict.info()"
   ]
  },
  {
   "cell_type": "code",
   "execution_count": 17,
   "metadata": {},
   "outputs": [
    {
     "name": "stdout",
     "output_type": "stream",
     "text": [
      "<class 'pandas.core.frame.DataFrame'>\n",
      "RangeIndex: 2356 entries, 0 to 2355\n",
      "Data columns (total 3 columns):\n",
      "favorite_count    1994 non-null float64\n",
      "retweet_count     1994 non-null float64\n",
      "tweet_id          1994 non-null float64\n",
      "dtypes: float64(3)\n",
      "memory usage: 55.3 KB\n"
     ]
    }
   ],
   "source": [
    "df_additional.info()"
   ]
  },
  {
   "cell_type": "code",
   "execution_count": 18,
   "metadata": {},
   "outputs": [
    {
     "data": {
      "text/html": [
       "<div>\n",
       "<style scoped>\n",
       "    .dataframe tbody tr th:only-of-type {\n",
       "        vertical-align: middle;\n",
       "    }\n",
       "\n",
       "    .dataframe tbody tr th {\n",
       "        vertical-align: top;\n",
       "    }\n",
       "\n",
       "    .dataframe thead th {\n",
       "        text-align: right;\n",
       "    }\n",
       "</style>\n",
       "<table border=\"1\" class=\"dataframe\">\n",
       "  <thead>\n",
       "    <tr style=\"text-align: right;\">\n",
       "      <th></th>\n",
       "      <th>tweet_id</th>\n",
       "      <th>in_reply_to_status_id</th>\n",
       "      <th>in_reply_to_user_id</th>\n",
       "      <th>timestamp</th>\n",
       "      <th>source</th>\n",
       "      <th>text</th>\n",
       "      <th>retweeted_status_id</th>\n",
       "      <th>retweeted_status_user_id</th>\n",
       "      <th>retweeted_status_timestamp</th>\n",
       "      <th>expanded_urls</th>\n",
       "      <th>rating_numerator</th>\n",
       "      <th>rating_denominator</th>\n",
       "      <th>name</th>\n",
       "      <th>doggo</th>\n",
       "      <th>floofer</th>\n",
       "      <th>pupper</th>\n",
       "      <th>puppo</th>\n",
       "    </tr>\n",
       "  </thead>\n",
       "  <tbody>\n",
       "    <tr>\n",
       "      <th>557</th>\n",
       "      <td>803380650405482500</td>\n",
       "      <td>NaN</td>\n",
       "      <td>NaN</td>\n",
       "      <td>2016-11-28 23:30:47 +0000</td>\n",
       "      <td>&lt;a href=\"http://twitter.com/download/iphone\" r...</td>\n",
       "      <td>Meet Sonny. He's an in-home movie critic. That...</td>\n",
       "      <td>NaN</td>\n",
       "      <td>NaN</td>\n",
       "      <td>NaN</td>\n",
       "      <td>https://twitter.com/dog_rates/status/803380650...</td>\n",
       "      <td>12</td>\n",
       "      <td>10</td>\n",
       "      <td>Sonny</td>\n",
       "      <td>None</td>\n",
       "      <td>None</td>\n",
       "      <td>None</td>\n",
       "      <td>None</td>\n",
       "    </tr>\n",
       "    <tr>\n",
       "      <th>1557</th>\n",
       "      <td>688804835492233216</td>\n",
       "      <td>NaN</td>\n",
       "      <td>NaN</td>\n",
       "      <td>2016-01-17 19:27:24 +0000</td>\n",
       "      <td>&lt;a href=\"http://twitter.com/download/iphone\" r...</td>\n",
       "      <td>When you stumble but recover quickly cause you...</td>\n",
       "      <td>NaN</td>\n",
       "      <td>NaN</td>\n",
       "      <td>NaN</td>\n",
       "      <td>https://twitter.com/dog_rates/status/688804835...</td>\n",
       "      <td>12</td>\n",
       "      <td>10</td>\n",
       "      <td>None</td>\n",
       "      <td>None</td>\n",
       "      <td>None</td>\n",
       "      <td>None</td>\n",
       "      <td>None</td>\n",
       "    </tr>\n",
       "    <tr>\n",
       "      <th>2195</th>\n",
       "      <td>668872652652679168</td>\n",
       "      <td>NaN</td>\n",
       "      <td>NaN</td>\n",
       "      <td>2015-11-23 19:24:02 +0000</td>\n",
       "      <td>&lt;a href=\"http://twitter.com/download/iphone\" r...</td>\n",
       "      <td>This is Amélie. She is a confident white colle...</td>\n",
       "      <td>NaN</td>\n",
       "      <td>NaN</td>\n",
       "      <td>NaN</td>\n",
       "      <td>https://twitter.com/dog_rates/status/668872652...</td>\n",
       "      <td>11</td>\n",
       "      <td>10</td>\n",
       "      <td>Amélie</td>\n",
       "      <td>None</td>\n",
       "      <td>None</td>\n",
       "      <td>None</td>\n",
       "      <td>None</td>\n",
       "    </tr>\n",
       "    <tr>\n",
       "      <th>923</th>\n",
       "      <td>755955933503782912</td>\n",
       "      <td>NaN</td>\n",
       "      <td>NaN</td>\n",
       "      <td>2016-07-21 02:41:54 +0000</td>\n",
       "      <td>&lt;a href=\"http://twitter.com/download/iphone\" r...</td>\n",
       "      <td>Here's a frustrated pupper attempting to escap...</td>\n",
       "      <td>NaN</td>\n",
       "      <td>NaN</td>\n",
       "      <td>NaN</td>\n",
       "      <td>https://twitter.com/dog_rates/status/755955933...</td>\n",
       "      <td>12</td>\n",
       "      <td>10</td>\n",
       "      <td>None</td>\n",
       "      <td>None</td>\n",
       "      <td>None</td>\n",
       "      <td>pupper</td>\n",
       "      <td>None</td>\n",
       "    </tr>\n",
       "    <tr>\n",
       "      <th>1194</th>\n",
       "      <td>717428917016076293</td>\n",
       "      <td>NaN</td>\n",
       "      <td>NaN</td>\n",
       "      <td>2016-04-05 19:09:17 +0000</td>\n",
       "      <td>&lt;a href=\"http://vine.co\" rel=\"nofollow\"&gt;Vine -...</td>\n",
       "      <td>This is Skittle. He's trying to communicate. 1...</td>\n",
       "      <td>NaN</td>\n",
       "      <td>NaN</td>\n",
       "      <td>NaN</td>\n",
       "      <td>https://vine.co/v/iIhEU2lVqxz</td>\n",
       "      <td>11</td>\n",
       "      <td>10</td>\n",
       "      <td>Skittle</td>\n",
       "      <td>None</td>\n",
       "      <td>None</td>\n",
       "      <td>None</td>\n",
       "      <td>None</td>\n",
       "    </tr>\n",
       "  </tbody>\n",
       "</table>\n",
       "</div>"
      ],
      "text/plain": [
       "                tweet_id  in_reply_to_status_id  in_reply_to_user_id  \\\n",
       "557   803380650405482500                    NaN                  NaN   \n",
       "1557  688804835492233216                    NaN                  NaN   \n",
       "2195  668872652652679168                    NaN                  NaN   \n",
       "923   755955933503782912                    NaN                  NaN   \n",
       "1194  717428917016076293                    NaN                  NaN   \n",
       "\n",
       "                      timestamp  \\\n",
       "557   2016-11-28 23:30:47 +0000   \n",
       "1557  2016-01-17 19:27:24 +0000   \n",
       "2195  2015-11-23 19:24:02 +0000   \n",
       "923   2016-07-21 02:41:54 +0000   \n",
       "1194  2016-04-05 19:09:17 +0000   \n",
       "\n",
       "                                                 source  \\\n",
       "557   <a href=\"http://twitter.com/download/iphone\" r...   \n",
       "1557  <a href=\"http://twitter.com/download/iphone\" r...   \n",
       "2195  <a href=\"http://twitter.com/download/iphone\" r...   \n",
       "923   <a href=\"http://twitter.com/download/iphone\" r...   \n",
       "1194  <a href=\"http://vine.co\" rel=\"nofollow\">Vine -...   \n",
       "\n",
       "                                                   text  retweeted_status_id  \\\n",
       "557   Meet Sonny. He's an in-home movie critic. That...                  NaN   \n",
       "1557  When you stumble but recover quickly cause you...                  NaN   \n",
       "2195  This is Amélie. She is a confident white colle...                  NaN   \n",
       "923   Here's a frustrated pupper attempting to escap...                  NaN   \n",
       "1194  This is Skittle. He's trying to communicate. 1...                  NaN   \n",
       "\n",
       "      retweeted_status_user_id retweeted_status_timestamp  \\\n",
       "557                        NaN                        NaN   \n",
       "1557                       NaN                        NaN   \n",
       "2195                       NaN                        NaN   \n",
       "923                        NaN                        NaN   \n",
       "1194                       NaN                        NaN   \n",
       "\n",
       "                                          expanded_urls  rating_numerator  \\\n",
       "557   https://twitter.com/dog_rates/status/803380650...                12   \n",
       "1557  https://twitter.com/dog_rates/status/688804835...                12   \n",
       "2195  https://twitter.com/dog_rates/status/668872652...                11   \n",
       "923   https://twitter.com/dog_rates/status/755955933...                12   \n",
       "1194                      https://vine.co/v/iIhEU2lVqxz                11   \n",
       "\n",
       "      rating_denominator     name doggo floofer  pupper puppo  \n",
       "557                   10    Sonny  None    None    None  None  \n",
       "1557                  10     None  None    None    None  None  \n",
       "2195                  10   Amélie  None    None    None  None  \n",
       "923                   10     None  None    None  pupper  None  \n",
       "1194                  10  Skittle  None    None    None  None  "
      ]
     },
     "execution_count": 18,
     "metadata": {},
     "output_type": "execute_result"
    }
   ],
   "source": [
    "df_enhanced.sample(5)"
   ]
  },
  {
   "cell_type": "code",
   "execution_count": 19,
   "metadata": {},
   "outputs": [
    {
     "data": {
      "text/html": [
       "<div>\n",
       "<style scoped>\n",
       "    .dataframe tbody tr th:only-of-type {\n",
       "        vertical-align: middle;\n",
       "    }\n",
       "\n",
       "    .dataframe tbody tr th {\n",
       "        vertical-align: top;\n",
       "    }\n",
       "\n",
       "    .dataframe thead th {\n",
       "        text-align: right;\n",
       "    }\n",
       "</style>\n",
       "<table border=\"1\" class=\"dataframe\">\n",
       "  <thead>\n",
       "    <tr style=\"text-align: right;\">\n",
       "      <th></th>\n",
       "      <th>tweet_id</th>\n",
       "      <th>jpg_url</th>\n",
       "      <th>img_num</th>\n",
       "      <th>p1</th>\n",
       "      <th>p1_conf</th>\n",
       "      <th>p1_dog</th>\n",
       "      <th>p2</th>\n",
       "      <th>p2_conf</th>\n",
       "      <th>p2_dog</th>\n",
       "      <th>p3</th>\n",
       "      <th>p3_conf</th>\n",
       "      <th>p3_dog</th>\n",
       "    </tr>\n",
       "  </thead>\n",
       "  <tbody>\n",
       "    <tr>\n",
       "      <th>1759</th>\n",
       "      <td>825829644528148480</td>\n",
       "      <td>https://pbs.twimg.com/media/C3XvqILXUAU2nnT.jpg</td>\n",
       "      <td>2</td>\n",
       "      <td>Great_Pyrenees</td>\n",
       "      <td>0.853407</td>\n",
       "      <td>True</td>\n",
       "      <td>golden_retriever</td>\n",
       "      <td>0.053531</td>\n",
       "      <td>True</td>\n",
       "      <td>English_setter</td>\n",
       "      <td>0.045830</td>\n",
       "      <td>True</td>\n",
       "    </tr>\n",
       "    <tr>\n",
       "      <th>532</th>\n",
       "      <td>676864501615042560</td>\n",
       "      <td>https://pbs.twimg.com/media/CWS0q8iU8AE2Srr.jpg</td>\n",
       "      <td>1</td>\n",
       "      <td>Chesapeake_Bay_retriever</td>\n",
       "      <td>0.371146</td>\n",
       "      <td>True</td>\n",
       "      <td>water_buffalo</td>\n",
       "      <td>0.099596</td>\n",
       "      <td>False</td>\n",
       "      <td>Weimaraner</td>\n",
       "      <td>0.048968</td>\n",
       "      <td>True</td>\n",
       "    </tr>\n",
       "    <tr>\n",
       "      <th>1541</th>\n",
       "      <td>791026214425268224</td>\n",
       "      <td>https://pbs.twimg.com/media/CpmyNumW8AAAJGj.jpg</td>\n",
       "      <td>1</td>\n",
       "      <td>malamute</td>\n",
       "      <td>0.375098</td>\n",
       "      <td>True</td>\n",
       "      <td>jean</td>\n",
       "      <td>0.069362</td>\n",
       "      <td>False</td>\n",
       "      <td>keeshond</td>\n",
       "      <td>0.050528</td>\n",
       "      <td>True</td>\n",
       "    </tr>\n",
       "    <tr>\n",
       "      <th>1363</th>\n",
       "      <td>761334018830917632</td>\n",
       "      <td>https://pbs.twimg.com/media/CpDNQGkWEAENiYZ.jpg</td>\n",
       "      <td>1</td>\n",
       "      <td>Norwegian_elkhound</td>\n",
       "      <td>0.822936</td>\n",
       "      <td>True</td>\n",
       "      <td>malinois</td>\n",
       "      <td>0.086152</td>\n",
       "      <td>True</td>\n",
       "      <td>German_shepherd</td>\n",
       "      <td>0.063333</td>\n",
       "      <td>True</td>\n",
       "    </tr>\n",
       "    <tr>\n",
       "      <th>189</th>\n",
       "      <td>669375718304980992</td>\n",
       "      <td>https://pbs.twimg.com/media/CUoZqaqWcAAA2MQ.jpg</td>\n",
       "      <td>1</td>\n",
       "      <td>Airedale</td>\n",
       "      <td>0.168762</td>\n",
       "      <td>True</td>\n",
       "      <td>Norfolk_terrier</td>\n",
       "      <td>0.107479</td>\n",
       "      <td>True</td>\n",
       "      <td>Lakeland_terrier</td>\n",
       "      <td>0.097846</td>\n",
       "      <td>True</td>\n",
       "    </tr>\n",
       "  </tbody>\n",
       "</table>\n",
       "</div>"
      ],
      "text/plain": [
       "                tweet_id                                          jpg_url  \\\n",
       "1759  825829644528148480  https://pbs.twimg.com/media/C3XvqILXUAU2nnT.jpg   \n",
       "532   676864501615042560  https://pbs.twimg.com/media/CWS0q8iU8AE2Srr.jpg   \n",
       "1541  791026214425268224  https://pbs.twimg.com/media/CpmyNumW8AAAJGj.jpg   \n",
       "1363  761334018830917632  https://pbs.twimg.com/media/CpDNQGkWEAENiYZ.jpg   \n",
       "189   669375718304980992  https://pbs.twimg.com/media/CUoZqaqWcAAA2MQ.jpg   \n",
       "\n",
       "      img_num                        p1   p1_conf  p1_dog                p2  \\\n",
       "1759        2            Great_Pyrenees  0.853407    True  golden_retriever   \n",
       "532         1  Chesapeake_Bay_retriever  0.371146    True     water_buffalo   \n",
       "1541        1                  malamute  0.375098    True              jean   \n",
       "1363        1        Norwegian_elkhound  0.822936    True          malinois   \n",
       "189         1                  Airedale  0.168762    True   Norfolk_terrier   \n",
       "\n",
       "       p2_conf  p2_dog                p3   p3_conf  p3_dog  \n",
       "1759  0.053531    True    English_setter  0.045830    True  \n",
       "532   0.099596   False        Weimaraner  0.048968    True  \n",
       "1541  0.069362   False          keeshond  0.050528    True  \n",
       "1363  0.086152    True   German_shepherd  0.063333    True  \n",
       "189   0.107479    True  Lakeland_terrier  0.097846    True  "
      ]
     },
     "execution_count": 19,
     "metadata": {},
     "output_type": "execute_result"
    }
   ],
   "source": [
    "df_predict.sample(5)"
   ]
  },
  {
   "cell_type": "code",
   "execution_count": 20,
   "metadata": {},
   "outputs": [
    {
     "data": {
      "text/html": [
       "<div>\n",
       "<style scoped>\n",
       "    .dataframe tbody tr th:only-of-type {\n",
       "        vertical-align: middle;\n",
       "    }\n",
       "\n",
       "    .dataframe tbody tr th {\n",
       "        vertical-align: top;\n",
       "    }\n",
       "\n",
       "    .dataframe thead th {\n",
       "        text-align: right;\n",
       "    }\n",
       "</style>\n",
       "<table border=\"1\" class=\"dataframe\">\n",
       "  <thead>\n",
       "    <tr style=\"text-align: right;\">\n",
       "      <th></th>\n",
       "      <th>favorite_count</th>\n",
       "      <th>retweet_count</th>\n",
       "      <th>tweet_id</th>\n",
       "    </tr>\n",
       "  </thead>\n",
       "  <tbody>\n",
       "    <tr>\n",
       "      <th>1062</th>\n",
       "      <td>10362.0</td>\n",
       "      <td>5834.0</td>\n",
       "      <td>7.410998e+17</td>\n",
       "    </tr>\n",
       "    <tr>\n",
       "      <th>1197</th>\n",
       "      <td>3356.0</td>\n",
       "      <td>1019.0</td>\n",
       "      <td>7.170094e+17</td>\n",
       "    </tr>\n",
       "    <tr>\n",
       "      <th>171</th>\n",
       "      <td>0.0</td>\n",
       "      <td>8178.0</td>\n",
       "      <td>8.588604e+17</td>\n",
       "    </tr>\n",
       "    <tr>\n",
       "      <th>1965</th>\n",
       "      <td>2519.0</td>\n",
       "      <td>1293.0</td>\n",
       "      <td>6.733456e+17</td>\n",
       "    </tr>\n",
       "    <tr>\n",
       "      <th>1799</th>\n",
       "      <td>2798.0</td>\n",
       "      <td>964.0</td>\n",
       "      <td>6.771873e+17</td>\n",
       "    </tr>\n",
       "  </tbody>\n",
       "</table>\n",
       "</div>"
      ],
      "text/plain": [
       "      favorite_count  retweet_count      tweet_id\n",
       "1062         10362.0         5834.0  7.410998e+17\n",
       "1197          3356.0         1019.0  7.170094e+17\n",
       "171              0.0         8178.0  8.588604e+17\n",
       "1965          2519.0         1293.0  6.733456e+17\n",
       "1799          2798.0          964.0  6.771873e+17"
      ]
     },
     "execution_count": 20,
     "metadata": {},
     "output_type": "execute_result"
    }
   ],
   "source": [
    "df_additional.sample(5)"
   ]
  },
  {
   "cell_type": "code",
   "execution_count": 21,
   "metadata": {},
   "outputs": [
    {
     "data": {
      "text/plain": [
       "str"
      ]
     },
     "execution_count": 21,
     "metadata": {},
     "output_type": "execute_result"
    }
   ],
   "source": [
    "# dataType of timestamp\n",
    "type(df_enhanced['timestamp'][0])"
   ]
  },
  {
   "cell_type": "code",
   "execution_count": 22,
   "metadata": {},
   "outputs": [
    {
     "data": {
      "text/plain": [
       "['<a href=\"http://twitter.com/download/iphone\" rel=\"nofollow\">Twitter for iPhone</a>',\n",
       " '<a href=\"http://twitter.com\" rel=\"nofollow\">Twitter Web Client</a>',\n",
       " '<a href=\"http://vine.co\" rel=\"nofollow\">Vine - Make a Scene</a>',\n",
       " '<a href=\"https://about.twitter.com/products/tweetdeck\" rel=\"nofollow\">TweetDeck</a>']"
      ]
     },
     "execution_count": 22,
     "metadata": {},
     "output_type": "execute_result"
    }
   ],
   "source": [
    "# source columns unique entries\n",
    "df_enhanced['source'].unique().tolist()"
   ]
  },
  {
   "cell_type": "code",
   "execution_count": 24,
   "metadata": {},
   "outputs": [
    {
     "data": {
      "text/html": [
       "<div>\n",
       "<style scoped>\n",
       "    .dataframe tbody tr th:only-of-type {\n",
       "        vertical-align: middle;\n",
       "    }\n",
       "\n",
       "    .dataframe tbody tr th {\n",
       "        vertical-align: top;\n",
       "    }\n",
       "\n",
       "    .dataframe thead th {\n",
       "        text-align: right;\n",
       "    }\n",
       "</style>\n",
       "<table border=\"1\" class=\"dataframe\">\n",
       "  <thead>\n",
       "    <tr style=\"text-align: right;\">\n",
       "      <th></th>\n",
       "      <th>p1</th>\n",
       "      <th>p2</th>\n",
       "      <th>p3</th>\n",
       "    </tr>\n",
       "  </thead>\n",
       "  <tbody>\n",
       "    <tr>\n",
       "      <th>928</th>\n",
       "      <td>golden_retriever</td>\n",
       "      <td>Chesapeake_Bay_retriever</td>\n",
       "      <td>Brittany_spaniel</td>\n",
       "    </tr>\n",
       "    <tr>\n",
       "      <th>1725</th>\n",
       "      <td>school_bus</td>\n",
       "      <td>cab</td>\n",
       "      <td>crane</td>\n",
       "    </tr>\n",
       "    <tr>\n",
       "      <th>1896</th>\n",
       "      <td>tennis_ball</td>\n",
       "      <td>kelpie</td>\n",
       "      <td>malinois</td>\n",
       "    </tr>\n",
       "    <tr>\n",
       "      <th>2028</th>\n",
       "      <td>Pembroke</td>\n",
       "      <td>Chihuahua</td>\n",
       "      <td>Cardigan</td>\n",
       "    </tr>\n",
       "    <tr>\n",
       "      <th>559</th>\n",
       "      <td>Siberian_husky</td>\n",
       "      <td>junco</td>\n",
       "      <td>malamute</td>\n",
       "    </tr>\n",
       "  </tbody>\n",
       "</table>\n",
       "</div>"
      ],
      "text/plain": [
       "                    p1                        p2                p3\n",
       "928   golden_retriever  Chesapeake_Bay_retriever  Brittany_spaniel\n",
       "1725        school_bus                       cab             crane\n",
       "1896       tennis_ball                    kelpie          malinois\n",
       "2028          Pembroke                 Chihuahua          Cardigan\n",
       "559     Siberian_husky                     junco          malamute"
      ]
     },
     "execution_count": 24,
     "metadata": {},
     "output_type": "execute_result"
    }
   ],
   "source": [
    "# check formating of sample of dog breeds\n",
    "df_predict[['p1','p2','p3']].sample(5)"
   ]
  },
  {
   "cell_type": "code",
   "execution_count": 25,
   "metadata": {},
   "outputs": [
    {
     "data": {
      "text/plain": [
       "23"
      ]
     },
     "execution_count": 25,
     "metadata": {},
     "output_type": "execute_result"
    }
   ],
   "source": [
    "# number of rating denominators not equal to 10\n",
    "(df_enhanced['rating_denominator'] != 10).sum()"
   ]
  },
  {
   "cell_type": "code",
   "execution_count": 26,
   "metadata": {},
   "outputs": [
    {
     "data": {
      "text/plain": [
       "24"
      ]
     },
     "execution_count": 26,
     "metadata": {},
     "output_type": "execute_result"
    }
   ],
   "source": [
    "# number of rating numerators less than ten greater than 20\n",
    "(df_enhanced['rating_numerator'] > 20).sum()"
   ]
  },
  {
   "cell_type": "markdown",
   "metadata": {},
   "source": [
    "##### Accuracy/Validity issues spotted looking at 23/19 examples that dont meet requirements in two cells above\n",
    "\n",
    "###### No Rating Provided:\n",
    "810984652412424192: no rating provided but picking up a date rather than a rating\n",
    "\n",
    "###### Numerator unrealistic (forms part of a joke):\n",
    "670842764863651840,\n",
    "749981277374128128\n",
    "\n",
    "###### Groups of Dogs:\n",
    "820690176645140481,\n",
    "758467244762497024,\n",
    "731156023742988288\n",
    "\n",
    "###### Original Cleaning Picked Up a Date/Other Rather Than Rating:\n",
    "740373189193256964,\n",
    "722974582966214656\n",
    "\n",
    "###### Original Cleaning did not pick up float as numerator:\n",
    "680494726643068929"
   ]
  },
  {
   "cell_type": "markdown",
   "metadata": {},
   "source": [
    "## Clean"
   ]
  },
  {
   "cell_type": "code",
   "execution_count": 27,
   "metadata": {},
   "outputs": [],
   "source": [
    "df_enhanced_clean = df_enhanced.copy()\n",
    "df_predict_clean = df_predict.copy()\n",
    "df_additional_clean = df_additional.copy()"
   ]
  },
  {
   "cell_type": "markdown",
   "metadata": {},
   "source": [
    "### Quality"
   ]
  },
  {
   "cell_type": "markdown",
   "metadata": {},
   "source": [
    "#### Cleaning for Copmleteness"
   ]
  },
  {
   "cell_type": "markdown",
   "metadata": {},
   "source": [
    "##### Define\n",
    "\n",
    "Convert tweetIDs from enhanced and predict dataFrame into lists and use sets to find the missing tweetIDs. From here run the missing tweet IDs through the predict algorithm and add to predict dataFrame // remove the missing tweetIDs from the enhanced dataFrame."
   ]
  },
  {
   "cell_type": "markdown",
   "metadata": {},
   "source": [
    "##### Code"
   ]
  },
  {
   "cell_type": "code",
   "execution_count": 28,
   "metadata": {},
   "outputs": [],
   "source": [
    "df_enhanced_clean = df_enhanced_clean[df_enhanced_clean['tweet_id'].isin(df_predict_clean['tweet_id'])]"
   ]
  },
  {
   "cell_type": "markdown",
   "metadata": {},
   "source": [
    "##### Test"
   ]
  },
  {
   "cell_type": "code",
   "execution_count": 29,
   "metadata": {},
   "outputs": [],
   "source": [
    "# list of missing tweet IDs\n",
    "missing_tweetIDs = list(set(df_enhanced_clean['tweet_id'].to_list()) - set(df_predict['tweet_id'].to_list()))\n",
    "\n",
    "# check that the length of missing tweetIDs is now zero\n",
    "assert(len(missing_tweetIDs) == 0)"
   ]
  },
  {
   "cell_type": "markdown",
   "metadata": {},
   "source": [
    "##### Define\n",
    "\n",
    "Remove re-tweets by filtering out all rows with retweet ID not equal to NaN"
   ]
  },
  {
   "cell_type": "markdown",
   "metadata": {},
   "source": [
    "##### Code"
   ]
  },
  {
   "cell_type": "code",
   "execution_count": 30,
   "metadata": {},
   "outputs": [],
   "source": [
    "df_enhanced_clean = df_enhanced_clean[df_enhanced_clean['retweeted_status_id'].isna()]"
   ]
  },
  {
   "cell_type": "markdown",
   "metadata": {},
   "source": [
    "##### Test"
   ]
  },
  {
   "cell_type": "code",
   "execution_count": 31,
   "metadata": {},
   "outputs": [],
   "source": [
    "assert(df_enhanced_clean['retweeted_status_id'].notna().sum() == 0)"
   ]
  },
  {
   "cell_type": "markdown",
   "metadata": {},
   "source": [
    "### Tidiness"
   ]
  },
  {
   "cell_type": "markdown",
   "metadata": {},
   "source": [
    "#### Each Observational Unit Forms a Table"
   ]
  },
  {
   "cell_type": "markdown",
   "metadata": {},
   "source": [
    "##### Define\n",
    "\n",
    "* Use pandas merge function to create master data frame combining df_enhanced and df_additional to create df_master_temp (and test)\n",
    "* Use pandas merge function to create master data frame combining df_master_temp and df_predict to create df_master (and test)\n",
    "\n",
    "<b> NOTE: </b> done in this order to test each merge sequentially"
   ]
  },
  {
   "cell_type": "markdown",
   "metadata": {},
   "source": [
    "##### Code"
   ]
  },
  {
   "cell_type": "code",
   "execution_count": 32,
   "metadata": {},
   "outputs": [],
   "source": [
    "df_master_clean_temp = df_enhanced_clean.merge(df_additional_clean, \n",
    "                                               how = 'left', left_on = 'tweet_id', right_on = 'tweet_id')"
   ]
  },
  {
   "cell_type": "markdown",
   "metadata": {},
   "source": [
    "##### Test"
   ]
  },
  {
   "cell_type": "code",
   "execution_count": 33,
   "metadata": {},
   "outputs": [],
   "source": [
    "def test_merge(merge_column, df_1, df_2, df_merged):\n",
    "    try:\n",
    "        \n",
    "        # check randomly select column from df_1 exists in df_merged\n",
    "        random_col_df = np.random.choice(list(set(df_1.columns.tolist()) - set([merge_column])))\n",
    "        df_merged[random_col_df]\n",
    "        \n",
    "        # check randomly select column from df_2 exists in df_merged\n",
    "        random_col_df = np.random.choice(list(set(df_2.columns.tolist()) - set([merge_column])))\n",
    "        df_merged[random_col_df]\n",
    "        \n",
    "        # return 1 for assert statement (pass)\n",
    "        return 1     \n",
    "    \n",
    "    except:\n",
    "        \n",
    "        # return 0 for assert statement (fail)\n",
    "        return 0\n",
    "\n",
    "# assert merge passed test_merge\n",
    "assert(test_merge('tweet_id', df_enhanced_clean, df_additional_clean ,df_master_clean_temp) == 1)\n"
   ]
  },
  {
   "cell_type": "markdown",
   "metadata": {},
   "source": [
    "##### Code"
   ]
  },
  {
   "cell_type": "code",
   "execution_count": 34,
   "metadata": {},
   "outputs": [],
   "source": [
    "df_master_clean = df_master_clean_temp.merge(df_predict_clean,\n",
    "                                             how = 'left', left_on = 'tweet_id', right_on = 'tweet_id')"
   ]
  },
  {
   "cell_type": "markdown",
   "metadata": {},
   "source": [
    "##### Test"
   ]
  },
  {
   "cell_type": "code",
   "execution_count": 35,
   "metadata": {},
   "outputs": [],
   "source": [
    "assert(test_merge('tweet_id', df_master_clean_temp, df_predict_clean ,df_master_clean) == 1)"
   ]
  },
  {
   "cell_type": "code",
   "execution_count": 36,
   "metadata": {},
   "outputs": [],
   "source": [
    "assert(df_master_clean.shape[0] == df_enhanced_clean.shape[0])"
   ]
  },
  {
   "cell_type": "markdown",
   "metadata": {},
   "source": [
    "#### Each Variable Forms a Column"
   ]
  },
  {
   "cell_type": "markdown",
   "metadata": {},
   "source": [
    "##### Define\n",
    "\n",
    "Loop through each entry in the dataFrame.\n",
    "Using beautiful soup strip source_type and source_url from the html tag.\n",
    "Append to list of dictionaries\n",
    "Update existing dataFrame with new columns\n",
    "Drop original source column"
   ]
  },
  {
   "cell_type": "markdown",
   "metadata": {},
   "source": [
    "##### Code"
   ]
  },
  {
   "cell_type": "code",
   "execution_count": 37,
   "metadata": {},
   "outputs": [],
   "source": [
    "# https://www.geeksforgeeks.org/python-check-url-string/\n",
    "\n",
    "def Find_URL(string): \n",
    "    # findall() has been used  \n",
    "    # with valid conditions for urls in string \n",
    "    url = re.findall('http[s]?://(?:[a-zA-Z]|[0-9]|[$-_@.&+]|[!*\\(\\), ]|(?:%[0-9a-fA-F][0-9a-fA-F]))+', string) \n",
    "    return url\n"
   ]
  },
  {
   "cell_type": "code",
   "execution_count": 38,
   "metadata": {},
   "outputs": [],
   "source": [
    "source_list = df_master_clean['source'].tolist()\n",
    "df_list = []\n",
    "\n",
    "for source in source_list:\n",
    "    soup = BeautifulSoup(source, \"lxml\")\n",
    "    source_description = soup.find('a').contents[0]\n",
    "    source_url = Find_URL(source)[0]\n",
    "    df_list.append({'source_type':source_description, 'source_url':source_url})\n",
    "    \n",
    "df_master_clean[['source_type','source_url']] = pd.DataFrame(df_list)\n",
    "df_master_clean.drop('source', axis = 1, inplace = True)"
   ]
  },
  {
   "cell_type": "markdown",
   "metadata": {},
   "source": [
    "##### Test"
   ]
  },
  {
   "cell_type": "code",
   "execution_count": 39,
   "metadata": {},
   "outputs": [
    {
     "data": {
      "text/html": [
       "<div>\n",
       "<style scoped>\n",
       "    .dataframe tbody tr th:only-of-type {\n",
       "        vertical-align: middle;\n",
       "    }\n",
       "\n",
       "    .dataframe tbody tr th {\n",
       "        vertical-align: top;\n",
       "    }\n",
       "\n",
       "    .dataframe thead th {\n",
       "        text-align: right;\n",
       "    }\n",
       "</style>\n",
       "<table border=\"1\" class=\"dataframe\">\n",
       "  <thead>\n",
       "    <tr style=\"text-align: right;\">\n",
       "      <th></th>\n",
       "      <th>source_type</th>\n",
       "      <th>source_url</th>\n",
       "    </tr>\n",
       "  </thead>\n",
       "  <tbody>\n",
       "    <tr>\n",
       "      <th>1136</th>\n",
       "      <td>Twitter for iPhone</td>\n",
       "      <td>http://twitter.com/download/iphone</td>\n",
       "    </tr>\n",
       "    <tr>\n",
       "      <th>1138</th>\n",
       "      <td>Twitter for iPhone</td>\n",
       "      <td>http://twitter.com/download/iphone</td>\n",
       "    </tr>\n",
       "    <tr>\n",
       "      <th>1324</th>\n",
       "      <td>Twitter for iPhone</td>\n",
       "      <td>http://twitter.com/download/iphone</td>\n",
       "    </tr>\n",
       "    <tr>\n",
       "      <th>1081</th>\n",
       "      <td>Twitter for iPhone</td>\n",
       "      <td>http://twitter.com/download/iphone</td>\n",
       "    </tr>\n",
       "    <tr>\n",
       "      <th>1885</th>\n",
       "      <td>Twitter for iPhone</td>\n",
       "      <td>http://twitter.com/download/iphone</td>\n",
       "    </tr>\n",
       "  </tbody>\n",
       "</table>\n",
       "</div>"
      ],
      "text/plain": [
       "             source_type                          source_url\n",
       "1136  Twitter for iPhone  http://twitter.com/download/iphone\n",
       "1138  Twitter for iPhone  http://twitter.com/download/iphone\n",
       "1324  Twitter for iPhone  http://twitter.com/download/iphone\n",
       "1081  Twitter for iPhone  http://twitter.com/download/iphone\n",
       "1885  Twitter for iPhone  http://twitter.com/download/iphone"
      ]
     },
     "execution_count": 39,
     "metadata": {},
     "output_type": "execute_result"
    }
   ],
   "source": [
    "df_master_clean[['source_type','source_url']].sample(5)"
   ]
  },
  {
   "cell_type": "markdown",
   "metadata": {},
   "source": [
    "### Quality"
   ]
  },
  {
   "cell_type": "markdown",
   "metadata": {},
   "source": [
    "#### Cleaning for Validity and Accuracy"
   ]
  },
  {
   "cell_type": "markdown",
   "metadata": {},
   "source": [
    "##### Define\n",
    "\n",
    "Remove tweet_id 670842764863651840, 749981277374128128, 810984652412424192"
   ]
  },
  {
   "cell_type": "markdown",
   "metadata": {},
   "source": [
    "##### Code"
   ]
  },
  {
   "cell_type": "code",
   "execution_count": 40,
   "metadata": {},
   "outputs": [],
   "source": [
    "remove_list = [670842764863651840, 749981277374128128, 810984652412424192]\n",
    "df_master_clean = df_master_clean[~df_master_clean['tweet_id'].isin(remove_list)]"
   ]
  },
  {
   "cell_type": "markdown",
   "metadata": {},
   "source": [
    "##### Test"
   ]
  },
  {
   "cell_type": "code",
   "execution_count": 41,
   "metadata": {},
   "outputs": [],
   "source": [
    "assert((df_master_clean['tweet_id'] == 81098465241242419).sum() == 0)"
   ]
  },
  {
   "cell_type": "markdown",
   "metadata": {},
   "source": [
    "##### Define\n",
    "\n",
    "* use regular expressions to identify ratings including numerators containing decimals\n",
    "* typically ratings occur at end of tweet so if tweet cointains multiple numerical data prioritise end numerical data / numerator with proceeding /10 denominator.\n",
    "* sense check results against pre-determined tweet IDs\n",
    "* replace existing numerators column with new numerators column"
   ]
  },
  {
   "cell_type": "markdown",
   "metadata": {},
   "source": [
    "##### Code"
   ]
  },
  {
   "cell_type": "code",
   "execution_count": 42,
   "metadata": {},
   "outputs": [],
   "source": [
    "def find_rating(string): \n",
    "    # gather all fractions\n",
    "    rating = re.findall('[0-9]+\\.?[0-9]*/[0-9]+', string) \n",
    "    \n",
    "    # when multiple fractions in string take last fraction\n",
    "    rating = rating[len(rating)-1]\n",
    "    \n",
    "    # \n",
    "    rating_split = re.findall('[0-9]+\\.?[0-9]*', rating)\n",
    "    numerator = rating_split[0]\n",
    "    denominator = rating_split[1]   \n",
    "    \n",
    "    return (float(numerator), float(denominator))"
   ]
  },
  {
   "cell_type": "code",
   "execution_count": 43,
   "metadata": {},
   "outputs": [],
   "source": [
    "df_master_clean['rating_numerator'] = df_master_clean['text'].apply(lambda x: find_rating(x)[0])\n",
    "df_master_clean['rating_denominator'] = df_master_clean['text'].apply(lambda x: find_rating(x)[1])"
   ]
  },
  {
   "cell_type": "markdown",
   "metadata": {},
   "source": [
    "##### Test"
   ]
  },
  {
   "cell_type": "code",
   "execution_count": 44,
   "metadata": {},
   "outputs": [],
   "source": [
    "# unit test\n",
    "assert(df_master_clean['rating_numerator'][df_master_clean['tweet_id'] == 740373189193256964].tolist()[0] == 14)\n",
    "assert(df_master_clean['rating_numerator'][df_master_clean['tweet_id'] == 722974582966214656].tolist()[0] == 13)"
   ]
  },
  {
   "cell_type": "markdown",
   "metadata": {},
   "source": [
    "##### Define\n",
    "* when groups of dogs rated add a boolean column called isGroup\n",
    "* work out the number of animals in the group rated by dividing the numerator by 10 (as each dog in group is rated out of 10)\n",
    "* work out the average numerator by dividing the total numerator by number of dogs in the group\n",
    "* set rating denominator to 10\n",
    "* drop temporary num_animals columns"
   ]
  },
  {
   "cell_type": "markdown",
   "metadata": {},
   "source": [
    "##### Code"
   ]
  },
  {
   "cell_type": "code",
   "execution_count": 45,
   "metadata": {},
   "outputs": [],
   "source": [
    "# code below works for non groups as num_animals returns 1 thus denominator and numerator not effected\n",
    "df_master_clean['isGroup'] = df_master_clean['rating_denominator'] != 10\n",
    "df_master_clean['num_animals'] = df_master_clean['rating_denominator'] / 10\n",
    "df_master_clean['rating_numerator'] = df_master_clean['rating_numerator'] / df_master_clean['num_animals']\n",
    "df_master_clean['rating_denominator'] = 10.0\n",
    "df_master_clean.drop('num_animals', axis = 1, inplace = True)"
   ]
  },
  {
   "cell_type": "markdown",
   "metadata": {},
   "source": [
    "##### Test"
   ]
  },
  {
   "cell_type": "code",
   "execution_count": 46,
   "metadata": {},
   "outputs": [],
   "source": [
    "assert(df_master_clean['rating_numerator'][df_master_clean['rating_numerator'] > 20].sum() == 0)\n",
    "assert(df_master_clean['rating_denominator'][df_master_clean['rating_denominator'] != 10].sum() == 0)"
   ]
  },
  {
   "cell_type": "markdown",
   "metadata": {},
   "source": [
    "#### Cleaning for Consistency"
   ]
  },
  {
   "cell_type": "markdown",
   "metadata": {},
   "source": [
    "##### Define"
   ]
  },
  {
   "cell_type": "markdown",
   "metadata": {},
   "source": [
    "* Replace entry in column with either True or False if the row meets the requirement. Use df.replace function."
   ]
  },
  {
   "cell_type": "markdown",
   "metadata": {},
   "source": [
    "##### Code"
   ]
  },
  {
   "cell_type": "code",
   "execution_count": 47,
   "metadata": {},
   "outputs": [],
   "source": [
    "df_master_clean[['doggo','floofer','pupper','puppo']] = df_master_clean[\n",
    "    ['doggo','floofer','pupper','puppo']].replace(to_replace = ['None','doggo','floofer','pupper','puppo'],\n",
    "                                                                value = [False, True, True, True, True])"
   ]
  },
  {
   "cell_type": "code",
   "execution_count": 48,
   "metadata": {},
   "outputs": [
    {
     "data": {
      "text/html": [
       "<div>\n",
       "<style scoped>\n",
       "    .dataframe tbody tr th:only-of-type {\n",
       "        vertical-align: middle;\n",
       "    }\n",
       "\n",
       "    .dataframe tbody tr th {\n",
       "        vertical-align: top;\n",
       "    }\n",
       "\n",
       "    .dataframe thead th {\n",
       "        text-align: right;\n",
       "    }\n",
       "</style>\n",
       "<table border=\"1\" class=\"dataframe\">\n",
       "  <thead>\n",
       "    <tr style=\"text-align: right;\">\n",
       "      <th></th>\n",
       "      <th>doggo</th>\n",
       "      <th>floofer</th>\n",
       "      <th>pupper</th>\n",
       "      <th>puppo</th>\n",
       "    </tr>\n",
       "  </thead>\n",
       "  <tbody>\n",
       "    <tr>\n",
       "      <th>390</th>\n",
       "      <td>False</td>\n",
       "      <td>False</td>\n",
       "      <td>False</td>\n",
       "      <td>False</td>\n",
       "    </tr>\n",
       "    <tr>\n",
       "      <th>908</th>\n",
       "      <td>False</td>\n",
       "      <td>False</td>\n",
       "      <td>False</td>\n",
       "      <td>False</td>\n",
       "    </tr>\n",
       "    <tr>\n",
       "      <th>405</th>\n",
       "      <td>False</td>\n",
       "      <td>False</td>\n",
       "      <td>False</td>\n",
       "      <td>False</td>\n",
       "    </tr>\n",
       "    <tr>\n",
       "      <th>97</th>\n",
       "      <td>False</td>\n",
       "      <td>False</td>\n",
       "      <td>False</td>\n",
       "      <td>False</td>\n",
       "    </tr>\n",
       "    <tr>\n",
       "      <th>1015</th>\n",
       "      <td>False</td>\n",
       "      <td>False</td>\n",
       "      <td>True</td>\n",
       "      <td>False</td>\n",
       "    </tr>\n",
       "  </tbody>\n",
       "</table>\n",
       "</div>"
      ],
      "text/plain": [
       "      doggo  floofer  pupper  puppo\n",
       "390   False    False   False  False\n",
       "908   False    False   False  False\n",
       "405   False    False   False  False\n",
       "97    False    False   False  False\n",
       "1015  False    False    True  False"
      ]
     },
     "execution_count": 48,
     "metadata": {},
     "output_type": "execute_result"
    }
   ],
   "source": [
    "df_master_clean[['doggo','floofer','pupper','puppo']].sample(5)"
   ]
  },
  {
   "cell_type": "markdown",
   "metadata": {},
   "source": [
    "##### Test"
   ]
  },
  {
   "cell_type": "code",
   "execution_count": 49,
   "metadata": {},
   "outputs": [],
   "source": [
    "assert((df_master_clean[['doggo','floofer','pupper','puppo']] > 2).sum().sum() == 0)"
   ]
  },
  {
   "cell_type": "markdown",
   "metadata": {},
   "source": [
    "##### Define\n",
    "\n",
    "* Required format spec: all letters lower case, all spaces represented by '_'\n",
    "* Use .str.replace to achieve this"
   ]
  },
  {
   "cell_type": "markdown",
   "metadata": {},
   "source": [
    "##### Code"
   ]
  },
  {
   "cell_type": "code",
   "execution_count": 50,
   "metadata": {},
   "outputs": [],
   "source": [
    "columns = ['p1','p2','p3']\n",
    "for col in columns:\n",
    "    df_master_clean[col] = df_master_clean[col].str.lower()\n",
    "    df_master_clean[col] = df_master_clean[col].str.replace('-','_')\n",
    "    df_master_clean[col] = df_master_clean[col].str.replace(' ','_')\n",
    "\n",
    "df_predict_clean[columns];"
   ]
  },
  {
   "cell_type": "markdown",
   "metadata": {},
   "source": [
    "##### Test"
   ]
  },
  {
   "cell_type": "code",
   "execution_count": 51,
   "metadata": {},
   "outputs": [],
   "source": [
    "for col in columns:\n",
    "    assert(df_master_clean[col].str.count(' ').sum() == 0)\n",
    "    assert(df_master_clean[col].str.count('-').sum() == 0)"
   ]
  },
  {
   "cell_type": "markdown",
   "metadata": {},
   "source": [
    "##### Define\n",
    "Convert timestamp column in df_master_clean to datetime using pandas to_datetime function. "
   ]
  },
  {
   "cell_type": "markdown",
   "metadata": {},
   "source": [
    "##### Code"
   ]
  },
  {
   "cell_type": "code",
   "execution_count": 52,
   "metadata": {},
   "outputs": [],
   "source": [
    "df_master_clean['timestamp'] = pd.to_datetime(df_master_clean['timestamp'].str[:-6])"
   ]
  },
  {
   "cell_type": "markdown",
   "metadata": {},
   "source": [
    "##### Test"
   ]
  },
  {
   "cell_type": "code",
   "execution_count": 53,
   "metadata": {},
   "outputs": [],
   "source": [
    "assert(type(df_master_clean['timestamp'][0]) == pd._libs.tslibs.timestamps.Timestamp)"
   ]
  },
  {
   "cell_type": "markdown",
   "metadata": {},
   "source": [
    "## Export"
   ]
  },
  {
   "cell_type": "code",
   "execution_count": 54,
   "metadata": {},
   "outputs": [],
   "source": [
    "df_master_clean.to_csv('twitter_archive_master.csv')"
   ]
  },
  {
   "cell_type": "markdown",
   "metadata": {},
   "source": [
    "## Visualize\n",
    "\n",
    "All data has been assessed and cleaned (above) before visualisations were produced."
   ]
  },
  {
   "cell_type": "code",
   "execution_count": 55,
   "metadata": {},
   "outputs": [],
   "source": [
    "import matplotlib.pyplot as plt\n",
    "import seaborn as sns\n",
    "sns.set()"
   ]
  },
  {
   "cell_type": "code",
   "execution_count": 56,
   "metadata": {},
   "outputs": [
    {
     "data": {
      "image/png": "[encoded data removed]",
      "text/plain": [
       "<Figure size 576x432 with 1 Axes>"
      ]
     },
     "metadata": {
      "needs_background": "light"
     },
     "output_type": "display_data"
    }
   ],
   "source": [
    "p1_top_10 = df_master_clean[df_master_clean['p1_dog'] == True]['p1'].value_counts()\n",
    "p1_top_10.nlargest(10).plot(kind = 'bar', title='Top 10 Most Tweeted Breeds', figsize = (8,6));\n",
    "plt.xlabel('Breed');\n",
    "plt.ylabel('Tweet Count');\n"
   ]
  },
  {
   "cell_type": "code",
   "execution_count": 57,
   "metadata": {},
   "outputs": [],
   "source": [
    "p1_retweet_mean = df_master_clean[df_master_clean['p1_dog'] == True][['p1','retweet_count']].groupby('p1').mean()\n",
    "p1_retweet_count = df_master_clean[df_master_clean['p1_dog'] == True][['p1','p2']].groupby('p1').count()"
   ]
  },
  {
   "cell_type": "code",
   "execution_count": 58,
   "metadata": {},
   "outputs": [
    {
     "data": {
      "image/png": "[encoded data removed]",
      "text/plain": [
       "<Figure size 576x432 with 1 Axes>"
      ]
     },
     "metadata": {
      "needs_background": "light"
     },
     "output_type": "display_data"
    }
   ],
   "source": [
    "p1_retweet = p1_retweet_mean.merge(p1_retweet_count, left_on = 'p1', right_on = 'p1')\n",
    "p1_retweet = p1_retweet[p1_retweet['p2'] >= 10]['retweet_count']\n",
    "p1_retweet_top10 = p1_retweet.nlargest(10)\n",
    "p1_retweet_top10.plot(kind = 'bar',title='Top 10 Most ReTweeted Breeds', figsize = (8,6));\n",
    "plt.xlabel('Breed');\n",
    "plt.ylabel('Re-Tweet Count');"
   ]
  },
  {
   "cell_type": "code",
   "execution_count": 59,
   "metadata": {
    "scrolled": true
   },
   "outputs": [
    {
     "data": {
      "text/plain": [
       "0.7413360120542442"
      ]
     },
     "execution_count": 59,
     "metadata": {},
     "output_type": "execute_result"
    }
   ],
   "source": [
    "df_master_clean['p1_dog'].value_counts()[True]/df_master_clean.shape[0]"
   ]
  },
  {
   "cell_type": "code",
   "execution_count": 60,
   "metadata": {
    "scrolled": true
   },
   "outputs": [
    {
     "data": {
      "text/plain": [
       "0.629126213592233"
      ]
     },
     "execution_count": 60,
     "metadata": {},
     "output_type": "execute_result"
    }
   ],
   "source": [
    "(df_master_clean['rating_numerator'][df_master_clean['p1_dog'] == False] >= 10).sum() / (df_master_clean['p1_dog'] == False).sum()"
   ]
  },
  {
   "cell_type": "code",
   "execution_count": 61,
   "metadata": {},
   "outputs": [
    {
     "data": {
      "text/plain": [
       "0.789552988448016"
      ]
     },
     "execution_count": 61,
     "metadata": {},
     "output_type": "execute_result"
    }
   ],
   "source": [
    "(df_master_clean['rating_numerator']>=10).sum() / df_master_clean.shape[0]"
   ]
  },
  {
   "cell_type": "markdown",
   "metadata": {},
   "source": [
    "## Insights\n",
    "\n",
    "All data has been assessed and cleaned (above) before insights were drawn."
   ]
  },
  {
   "cell_type": "markdown",
   "metadata": {},
   "source": [
    "* Only 75% of tweets rated by WeRateDogs are actually dogs, according to the Neural Network predicting breed. This statement assumes the accuracy of the Neural Network.\n",
    "* Although undefined, the rating scale runs from 0/10 - 13/10\n",
    "* 80% of tweets on we rate dogs recieve a 10/10 rating or higher!\n",
    "* 60% of tweets that weren't even dogs recieve a 10/10 rating or higher!\n",
    "* Golden retriever and labrador were the two most tweeted about breeds\n",
    "* Cardigan and basset were the most retweeted breeds on average (excluding all breeds which had less than 10 postings)"
   ]
  }
 ],
 "metadata": {
  "kernelspec": {
   "display_name": "Python [conda env:udacity_data_analyst_nanodegree]",
   "language": "python",
   "name": "conda-env-udacity_data_analyst_nanodegree-py"
  },
  "language_info": {
   "codemirror_mode": {
    "name": "ipython",
    "version": 3
   },
   "file_extension": ".py",
   "mimetype": "text/x-python",
   "name": "python",
   "nbconvert_exporter": "python",
   "pygments_lexer": "ipython3",
   "version": "3.7.2"
  }
 },
 "nbformat": 4,
 "nbformat_minor": 2
}
